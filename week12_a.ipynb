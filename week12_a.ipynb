{
  "nbformat": 4,
  "nbformat_minor": 0,
  "metadata": {
    "colab": {
      "name": "week12_a.ipynb",
      "provenance": [],
      "collapsed_sections": []
    },
    "kernelspec": {
      "name": "python3",
      "display_name": "Python 3"
    },
    "language_info": {
      "name": "python"
    }
  },
  "cells": [
    {
      "cell_type": "code",
      "execution_count": null,
      "metadata": {
        "id": "J5hipoxLJULD"
      },
      "outputs": [],
      "source": [
        "from sklearn.ensemble import BaggingClassifier\n",
        "from sklearn.neighbors import KNeighborsClassifier\n",
        "bagging=BaggingClassifier(KNeighborsClassifier(),n_estimators=10)"
      ]
    },
    {
      "cell_type": "code",
      "source": [
        "bag_knn=BaggingClassifier(KNeighborsClassifier(n_neighbors=5),n_estimators=10,max_samples=0.5,bootstrap=True,random_state=3)"
      ],
      "metadata": {
        "id": "dN9fPRsPJvUQ"
      },
      "execution_count": null,
      "outputs": []
    },
    {
      "cell_type": "code",
      "source": [
        "from sklearn.datasets import load_breast_cancer\n",
        "dataset=load_breast_cancer()\n",
        "x=dataset.data\n",
        "y=dataset.target"
      ],
      "metadata": {
        "id": "NomeI4stKFUu"
      },
      "execution_count": null,
      "outputs": []
    },
    {
      "cell_type": "code",
      "source": [
        "from sklearn.model_selection import train_test_split\n",
        "x_train,x_test,y_train,y_test=train_test_split(x,y,random_state=3)"
      ],
      "metadata": {
        "id": "QU4mxnI9LLU0"
      },
      "execution_count": null,
      "outputs": []
    },
    {
      "cell_type": "code",
      "source": [
        "bag_knn.fit(x_train,y_train)\n",
        "bag_knn.score(x_test,y_test)"
      ],
      "metadata": {
        "colab": {
          "base_uri": "https://localhost:8080/"
        },
        "id": "zPQiBIzuLh0f",
        "outputId": "ba820ac3-3235-4c42-bee4-288fc0712999"
      },
      "execution_count": null,
      "outputs": [
        {
          "output_type": "execute_result",
          "data": {
            "text/plain": [
              "0.9370629370629371"
            ]
          },
          "metadata": {},
          "execution_count": 10
        }
      ]
    },
    {
      "cell_type": "code",
      "source": [
        "knn= KNeighborsClassifier(n_neighbors=5)\n",
        "knn.fit(x_train,y_train)\n",
        "knn.score(x_test,y_test)"
      ],
      "metadata": {
        "colab": {
          "base_uri": "https://localhost:8080/"
        },
        "id": "StnPptmNL0kd",
        "outputId": "2f301403-d2c8-4e30-dac8-160d90818cd3"
      },
      "execution_count": null,
      "outputs": [
        {
          "output_type": "execute_result",
          "data": {
            "text/plain": [
              "0.916083916083916"
            ]
          },
          "metadata": {},
          "execution_count": 14
        }
      ]
    },
    {
      "cell_type": "code",
      "source": [
        ""
      ],
      "metadata": {
        "id": "KkmzOk7dM3p_"
      },
      "execution_count": null,
      "outputs": []
    }
  ]
}